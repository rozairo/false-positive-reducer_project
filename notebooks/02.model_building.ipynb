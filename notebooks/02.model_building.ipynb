{
 "cells": [
  {
   "cell_type": "code",
   "execution_count": 1,
   "id": "26e925aa-3798-4ce8-8146-e5af0abc0fe2",
   "metadata": {},
   "outputs": [],
   "source": [
    "import numpy as np\n",
    "import pandas as pd\n",
    "import matplotlib.pyplot as plt"
   ]
  },
  {
   "cell_type": "code",
   "execution_count": 2,
   "id": "876415a3-4395-4001-a6d9-78c89c067127",
   "metadata": {},
   "outputs": [],
   "source": [
    "# Read the file\n",
    "data = pd.read_csv('../artifacts/CVEFixes.csv/CVEFixes.csv')"
   ]
  },
  {
   "cell_type": "code",
   "execution_count": 3,
   "id": "3a7b4901-7af4-475f-ad7a-0f5242848588",
   "metadata": {},
   "outputs": [
    {
     "data": {
      "text/html": [
       "<div>\n",
       "<style scoped>\n",
       "    .dataframe tbody tr th:only-of-type {\n",
       "        vertical-align: middle;\n",
       "    }\n",
       "\n",
       "    .dataframe tbody tr th {\n",
       "        vertical-align: top;\n",
       "    }\n",
       "\n",
       "    .dataframe thead th {\n",
       "        text-align: right;\n",
       "    }\n",
       "</style>\n",
       "<table border=\"1\" class=\"dataframe\">\n",
       "  <thead>\n",
       "    <tr style=\"text-align: right;\">\n",
       "      <th></th>\n",
       "      <th>code</th>\n",
       "      <th>language</th>\n",
       "      <th>safety</th>\n",
       "    </tr>\n",
       "  </thead>\n",
       "  <tbody>\n",
       "    <tr>\n",
       "      <th>0</th>\n",
       "      <td>package org.bouncycastle.jcajce.provider.asymm...</td>\n",
       "      <td>java</td>\n",
       "      <td>vulnerable</td>\n",
       "    </tr>\n",
       "    <tr>\n",
       "      <th>1</th>\n",
       "      <td>&lt;?php\\n\\n\\n\\n/**\\n\\n * ownCloud - user_ldap\\n\\...</td>\n",
       "      <td>php</td>\n",
       "      <td>vulnerable</td>\n",
       "    </tr>\n",
       "    <tr>\n",
       "      <th>2</th>\n",
       "      <td>#!/usr/bin/env python\\n\\nfrom __future__ impor...</td>\n",
       "      <td>py</td>\n",
       "      <td>safe</td>\n",
       "    </tr>\n",
       "    <tr>\n",
       "      <th>3</th>\n",
       "      <td>/* -*- c-basic-offset: 8 -*-\\n\\n   rdesktop: A...</td>\n",
       "      <td>c</td>\n",
       "      <td>safe</td>\n",
       "    </tr>\n",
       "    <tr>\n",
       "      <th>4</th>\n",
       "      <td>&lt;!DOCTYPE html&gt;\\n\\n&lt;html&gt;\\n\\n    &lt;head&gt;\\n\\n   ...</td>\n",
       "      <td>html</td>\n",
       "      <td>safe</td>\n",
       "    </tr>\n",
       "  </tbody>\n",
       "</table>\n",
       "</div>"
      ],
      "text/plain": [
       "                                                code language      safety\n",
       "0  package org.bouncycastle.jcajce.provider.asymm...     java  vulnerable\n",
       "1  <?php\\n\\n\\n\\n/**\\n\\n * ownCloud - user_ldap\\n\\...      php  vulnerable\n",
       "2  #!/usr/bin/env python\\n\\nfrom __future__ impor...       py        safe\n",
       "3  /* -*- c-basic-offset: 8 -*-\\n\\n   rdesktop: A...        c        safe\n",
       "4  <!DOCTYPE html>\\n\\n<html>\\n\\n    <head>\\n\\n   ...     html        safe"
      ]
     },
     "execution_count": 3,
     "metadata": {},
     "output_type": "execute_result"
    }
   ],
   "source": [
    "data.head()"
   ]
  },
  {
   "cell_type": "markdown",
   "id": "ab4cc40e-94bc-483c-a3e0-2fed2fd79a58",
   "metadata": {},
   "source": [
    "# Data Preprocessing"
   ]
  },
  {
   "cell_type": "code",
   "execution_count": 4,
   "id": "c65cf2db-1453-42d3-aa03-114ab621dc6f",
   "metadata": {},
   "outputs": [
    {
     "data": {
      "text/plain": [
       "(31194, 3)"
      ]
     },
     "execution_count": 4,
     "metadata": {},
     "output_type": "execute_result"
    }
   ],
   "source": [
    "data.shape"
   ]
  },
  {
   "cell_type": "code",
   "execution_count": 5,
   "id": "e109b924-c677-4114-b901-8ac032d63e36",
   "metadata": {},
   "outputs": [
    {
     "data": {
      "text/plain": [
       "np.int64(6471)"
      ]
     },
     "execution_count": 5,
     "metadata": {},
     "output_type": "execute_result"
    }
   ],
   "source": [
    "#finding duplicate raws\n",
    "data.duplicated().sum()"
   ]
  },
  {
   "cell_type": "code",
   "execution_count": 6,
   "id": "c46be570-0ad4-4f1d-a130-b442c623b44b",
   "metadata": {},
   "outputs": [],
   "source": [
    "# Drop all duplicate rows and keep only the first occurrence\n",
    "data = data.drop_duplicates()\n"
   ]
  },
  {
   "cell_type": "code",
   "execution_count": 7,
   "id": "be3e34a7-8710-4ddc-ad76-298d15e4b4e4",
   "metadata": {},
   "outputs": [
    {
     "name": "stdout",
     "output_type": "stream",
     "text": [
      "Remaining duplicates: 0\n"
     ]
    }
   ],
   "source": [
    "# Confirm that there are no duplicates left\n",
    "print(f\"Remaining duplicates: {data.duplicated().sum()}\")\n"
   ]
  },
  {
   "cell_type": "code",
   "execution_count": 8,
   "id": "3a21808a-a1cc-469c-a741-2253bd096c57",
   "metadata": {},
   "outputs": [
    {
     "data": {
      "text/plain": [
       "np.int64(0)"
      ]
     },
     "execution_count": 8,
     "metadata": {},
     "output_type": "execute_result"
    }
   ],
   "source": [
    "data.duplicated().sum()"
   ]
  },
  {
   "cell_type": "code",
   "execution_count": 9,
   "id": "b75a07f6-47c9-44f7-ba3d-e21b71fdd3ca",
   "metadata": {},
   "outputs": [
    {
     "data": {
      "text/plain": [
       "code        6\n",
       "language    0\n",
       "safety      0\n",
       "dtype: int64"
      ]
     },
     "execution_count": 9,
     "metadata": {},
     "output_type": "execute_result"
    }
   ],
   "source": [
    "#finding null values\n",
    "data.isnull().sum()"
   ]
  },
  {
   "cell_type": "code",
   "execution_count": 10,
   "id": "dce66d19-e34b-460d-bbd6-3d1d2b685330",
   "metadata": {},
   "outputs": [],
   "source": [
    "#Replace null (NaN) values in the 'code' column with 0\n",
    "data.loc[:, 'code'] = data['code'].fillna(0)"
   ]
  },
  {
   "cell_type": "code",
   "execution_count": 11,
   "id": "beac67fe-270a-4c21-a521-d3192974c6c0",
   "metadata": {},
   "outputs": [
    {
     "data": {
      "text/plain": [
       "code        0\n",
       "language    0\n",
       "safety      0\n",
       "dtype: int64"
      ]
     },
     "execution_count": 11,
     "metadata": {},
     "output_type": "execute_result"
    }
   ],
   "source": [
    "data.isnull().sum()"
   ]
  },
  {
   "cell_type": "markdown",
   "id": "29409cdc-3393-42b0-8db3-d2f7b8da2f59",
   "metadata": {},
   "source": [
    "## Preprocessing Code"
   ]
  },
  {
   "cell_type": "code",
   "execution_count": 12,
   "id": "82641892-beed-41cb-ada0-84b9cf7bf86b",
   "metadata": {},
   "outputs": [],
   "source": [
    "import re\n",
    "import string"
   ]
  },
  {
   "cell_type": "code",
   "execution_count": 13,
   "id": "e3ad44b2-2527-4913-b011-e285a45c0d94",
   "metadata": {},
   "outputs": [
    {
     "data": {
      "text/html": [
       "<div>\n",
       "<style scoped>\n",
       "    .dataframe tbody tr th:only-of-type {\n",
       "        vertical-align: middle;\n",
       "    }\n",
       "\n",
       "    .dataframe tbody tr th {\n",
       "        vertical-align: top;\n",
       "    }\n",
       "\n",
       "    .dataframe thead th {\n",
       "        text-align: right;\n",
       "    }\n",
       "</style>\n",
       "<table border=\"1\" class=\"dataframe\">\n",
       "  <thead>\n",
       "    <tr style=\"text-align: right;\">\n",
       "      <th></th>\n",
       "      <th>code</th>\n",
       "      <th>language</th>\n",
       "      <th>safety</th>\n",
       "    </tr>\n",
       "  </thead>\n",
       "  <tbody>\n",
       "    <tr>\n",
       "      <th>0</th>\n",
       "      <td>package org.bouncycastle.jcajce.provider.asymm...</td>\n",
       "      <td>java</td>\n",
       "      <td>vulnerable</td>\n",
       "    </tr>\n",
       "    <tr>\n",
       "      <th>1</th>\n",
       "      <td>&lt;?php\\n\\n\\n\\n/**\\n\\n * ownCloud - user_ldap\\n\\...</td>\n",
       "      <td>php</td>\n",
       "      <td>vulnerable</td>\n",
       "    </tr>\n",
       "    <tr>\n",
       "      <th>2</th>\n",
       "      <td>#!/usr/bin/env python\\n\\nfrom __future__ impor...</td>\n",
       "      <td>py</td>\n",
       "      <td>safe</td>\n",
       "    </tr>\n",
       "    <tr>\n",
       "      <th>3</th>\n",
       "      <td>/* -*- c-basic-offset: 8 -*-\\n\\n   rdesktop: A...</td>\n",
       "      <td>c</td>\n",
       "      <td>safe</td>\n",
       "    </tr>\n",
       "    <tr>\n",
       "      <th>4</th>\n",
       "      <td>&lt;!DOCTYPE html&gt;\\n\\n&lt;html&gt;\\n\\n    &lt;head&gt;\\n\\n   ...</td>\n",
       "      <td>html</td>\n",
       "      <td>safe</td>\n",
       "    </tr>\n",
       "  </tbody>\n",
       "</table>\n",
       "</div>"
      ],
      "text/plain": [
       "                                                code language      safety\n",
       "0  package org.bouncycastle.jcajce.provider.asymm...     java  vulnerable\n",
       "1  <?php\\n\\n\\n\\n/**\\n\\n * ownCloud - user_ldap\\n\\...      php  vulnerable\n",
       "2  #!/usr/bin/env python\\n\\nfrom __future__ impor...       py        safe\n",
       "3  /* -*- c-basic-offset: 8 -*-\\n\\n   rdesktop: A...        c        safe\n",
       "4  <!DOCTYPE html>\\n\\n<html>\\n\\n    <head>\\n\\n   ...     html        safe"
      ]
     },
     "execution_count": 13,
     "metadata": {},
     "output_type": "execute_result"
    }
   ],
   "source": [
    "data.head(5)"
   ]
  },
  {
   "cell_type": "code",
   "execution_count": 14,
   "id": "a3d10542-39af-443b-9a77-eb38c544707a",
   "metadata": {},
   "outputs": [],
   "source": [
    "def preprocess_code(code):\n",
    "    # Ensure the input is treated as a string\n",
    "    code = str(code)\n",
    "    \n",
    "    # 1. Remove comments (for Java, PHP, Python, etc.)\n",
    "    code = re.sub(r'//.*|/\\*.*?\\*/', ' ', code, flags=re.DOTALL)  # Remove single and multi-line comments\n",
    "    \n",
    "    # 2. Remove extra whitespace and newline characters\n",
    "    code = re.sub(r'\\s+', ' ', code)  # Replace multiple spaces and newlines with a single space\n",
    "    \n",
    "    # 3. Remove special characters (e.g., HTML tags)\n",
    "    code = re.sub(r'<.*?>', ' ', code)  # Remove HTML tags\n",
    "    \n",
    "    # 4. Remove unnecessary keywords or symbols (optional)\n",
    "    code = re.sub(r'\\b(?:package|import|public|class|function|php|\\?>)\\b', ' ', code)  # Updated to avoid `<?php`\n",
    "    \n",
    "    # 5. Normalize to lowercase (optional)\n",
    "    code = code.lower()\n",
    "    \n",
    "    return code.strip()\n"
   ]
  },
  {
   "cell_type": "code",
   "execution_count": 15,
   "id": "e413098a-bee8-4244-889a-8183ea47280c",
   "metadata": {},
   "outputs": [],
   "source": [
    "data['preprocess_code'] = data['code'].apply(preprocess_code)"
   ]
  },
  {
   "cell_type": "code",
   "execution_count": 16,
   "id": "eca4dd30-bbce-4037-a02b-e65eb33af9bf",
   "metadata": {},
   "outputs": [],
   "source": [
    "# Apply the preprocess_code function to clean the 'code' column in place\n",
    "data['code'] = data['code'].apply(preprocess_code)\n"
   ]
  },
  {
   "cell_type": "code",
   "execution_count": 17,
   "id": "5f766a4c-b0f1-48c8-8b9a-3bfcf9c3fd51",
   "metadata": {},
   "outputs": [
    {
     "data": {
      "text/html": [
       "<div>\n",
       "<style scoped>\n",
       "    .dataframe tbody tr th:only-of-type {\n",
       "        vertical-align: middle;\n",
       "    }\n",
       "\n",
       "    .dataframe tbody tr th {\n",
       "        vertical-align: top;\n",
       "    }\n",
       "\n",
       "    .dataframe thead th {\n",
       "        text-align: right;\n",
       "    }\n",
       "</style>\n",
       "<table border=\"1\" class=\"dataframe\">\n",
       "  <thead>\n",
       "    <tr style=\"text-align: right;\">\n",
       "      <th></th>\n",
       "      <th>code</th>\n",
       "      <th>language</th>\n",
       "      <th>safety</th>\n",
       "      <th>preprocess_code</th>\n",
       "    </tr>\n",
       "  </thead>\n",
       "  <tbody>\n",
       "    <tr>\n",
       "      <th>0</th>\n",
       "      <td>org.bouncycastle.jcajce.provider.asymmetric.ds...</td>\n",
       "      <td>java</td>\n",
       "      <td>vulnerable</td>\n",
       "      <td>org.bouncycastle.jcajce.provider.asymmetric.ds...</td>\n",
       "    </tr>\n",
       "    <tr>\n",
       "      <th>1</th>\n",
       "      <td>&lt;?  $params = array('ldap_host', 'ldap_port', ...</td>\n",
       "      <td>php</td>\n",
       "      <td>vulnerable</td>\n",
       "      <td>&lt;?  $params = array('ldap_host', 'ldap_port', ...</td>\n",
       "    </tr>\n",
       "    <tr>\n",
       "      <th>2</th>\n",
       "      <td>#!/usr/bin/env python from __future__   divisi...</td>\n",
       "      <td>py</td>\n",
       "      <td>safe</td>\n",
       "      <td>#!/usr/bin/env python from __future__   divisi...</td>\n",
       "    </tr>\n",
       "    <tr>\n",
       "      <th>3</th>\n",
       "      <td>#include \"rdesktop.h\" #define cliprdr_connect ...</td>\n",
       "      <td>c</td>\n",
       "      <td>safe</td>\n",
       "      <td>#include \"rdesktop.h\" #define cliprdr_connect ...</td>\n",
       "    </tr>\n",
       "    <tr>\n",
       "      <th>4</th>\n",
       "      <td>vnc performance benchmark      passes:  &amp;nbsp;...</td>\n",
       "      <td>html</td>\n",
       "      <td>safe</td>\n",
       "      <td>vnc performance benchmark      passes:  &amp;nbsp;...</td>\n",
       "    </tr>\n",
       "  </tbody>\n",
       "</table>\n",
       "</div>"
      ],
      "text/plain": [
       "                                                code language      safety  \\\n",
       "0  org.bouncycastle.jcajce.provider.asymmetric.ds...     java  vulnerable   \n",
       "1  <?  $params = array('ldap_host', 'ldap_port', ...      php  vulnerable   \n",
       "2  #!/usr/bin/env python from __future__   divisi...       py        safe   \n",
       "3  #include \"rdesktop.h\" #define cliprdr_connect ...        c        safe   \n",
       "4  vnc performance benchmark      passes:  &nbsp;...     html        safe   \n",
       "\n",
       "                                     preprocess_code  \n",
       "0  org.bouncycastle.jcajce.provider.asymmetric.ds...  \n",
       "1  <?  $params = array('ldap_host', 'ldap_port', ...  \n",
       "2  #!/usr/bin/env python from __future__   divisi...  \n",
       "3  #include \"rdesktop.h\" #define cliprdr_connect ...  \n",
       "4  vnc performance benchmark      passes:  &nbsp;...  "
      ]
     },
     "execution_count": 17,
     "metadata": {},
     "output_type": "execute_result"
    }
   ],
   "source": [
    "data.head(5)"
   ]
  },
  {
   "cell_type": "code",
   "execution_count": 18,
   "id": "e6121774-f018-4c4f-9ad1-d7cf8f08f76b",
   "metadata": {},
   "outputs": [],
   "source": [
    "# Add a new feature for code length\n",
    "data['code_length'] = data['code'].apply(len)"
   ]
  },
  {
   "cell_type": "code",
   "execution_count": 19,
   "id": "03b25aa4-513f-467f-9a8b-e280fb0c0b41",
   "metadata": {},
   "outputs": [],
   "source": [
    "# Count number of function calls in the code (e.g., occurrences of function names)\n",
    "data['function_calls'] = data['code'].apply(lambda x: len(re.findall(r'\\b\\w+\\b', x)))  # Adjust regex as needed\n"
   ]
  },
  {
   "cell_type": "code",
   "execution_count": 20,
   "id": "54aec51e-0195-4848-bb53-4fd4e9aab022",
   "metadata": {},
   "outputs": [],
   "source": [
    "# Define a list of vulnerability keywords\n",
    "vulnerability_keywords = ['eval', 'exec', 'system', 'shell', 'open', 'eval']\n",
    "\n",
    "# Count the occurrence of vulnerability keywords in each code snippet\n",
    "data['vuln_keywords'] = data['code'].apply(lambda x: sum([x.count(kw) for kw in vulnerability_keywords]))\n"
   ]
  },
  {
   "cell_type": "markdown",
   "id": "f7538c05-8a1c-44c8-a5c5-eba4e1b67b69",
   "metadata": {},
   "source": [
    "After preprocessing, finaal dataset "
   ]
  },
  {
   "cell_type": "code",
   "execution_count": 21,
   "id": "50bb98df-aee3-45d5-be7e-623d35c8186e",
   "metadata": {},
   "outputs": [
    {
     "data": {
      "text/html": [
       "<div>\n",
       "<style scoped>\n",
       "    .dataframe tbody tr th:only-of-type {\n",
       "        vertical-align: middle;\n",
       "    }\n",
       "\n",
       "    .dataframe tbody tr th {\n",
       "        vertical-align: top;\n",
       "    }\n",
       "\n",
       "    .dataframe thead th {\n",
       "        text-align: right;\n",
       "    }\n",
       "</style>\n",
       "<table border=\"1\" class=\"dataframe\">\n",
       "  <thead>\n",
       "    <tr style=\"text-align: right;\">\n",
       "      <th></th>\n",
       "      <th>code</th>\n",
       "      <th>language</th>\n",
       "      <th>safety</th>\n",
       "      <th>preprocess_code</th>\n",
       "      <th>code_length</th>\n",
       "      <th>function_calls</th>\n",
       "      <th>vuln_keywords</th>\n",
       "    </tr>\n",
       "  </thead>\n",
       "  <tbody>\n",
       "    <tr>\n",
       "      <th>0</th>\n",
       "      <td>org.bouncycastle.jcajce.provider.asymmetric.ds...</td>\n",
       "      <td>java</td>\n",
       "      <td>vulnerable</td>\n",
       "      <td>org.bouncycastle.jcajce.provider.asymmetric.ds...</td>\n",
       "      <td>2285</td>\n",
       "      <td>211</td>\n",
       "      <td>0</td>\n",
       "    </tr>\n",
       "    <tr>\n",
       "      <th>1</th>\n",
       "      <td>&lt;?  $params = array('ldap_host', 'ldap_port', ...</td>\n",
       "      <td>php</td>\n",
       "      <td>vulnerable</td>\n",
       "      <td>&lt;?  $params = array('ldap_host', 'ldap_port', ...</td>\n",
       "      <td>1039</td>\n",
       "      <td>87</td>\n",
       "      <td>0</td>\n",
       "    </tr>\n",
       "    <tr>\n",
       "      <th>2</th>\n",
       "      <td>#!/usr/bin/env python from __future__   divisi...</td>\n",
       "      <td>py</td>\n",
       "      <td>safe</td>\n",
       "      <td>#!/usr/bin/env python from __future__   divisi...</td>\n",
       "      <td>937</td>\n",
       "      <td>125</td>\n",
       "      <td>5</td>\n",
       "    </tr>\n",
       "    <tr>\n",
       "      <th>3</th>\n",
       "      <td>#include \"rdesktop.h\" #define cliprdr_connect ...</td>\n",
       "      <td>c</td>\n",
       "      <td>safe</td>\n",
       "      <td>#include \"rdesktop.h\" #define cliprdr_connect ...</td>\n",
       "      <td>3627</td>\n",
       "      <td>343</td>\n",
       "      <td>0</td>\n",
       "    </tr>\n",
       "    <tr>\n",
       "      <th>4</th>\n",
       "      <td>vnc performance benchmark      passes:  &amp;nbsp;...</td>\n",
       "      <td>html</td>\n",
       "      <td>safe</td>\n",
       "      <td>vnc performance benchmark      passes:  &amp;nbsp;...</td>\n",
       "      <td>174</td>\n",
       "      <td>17</td>\n",
       "      <td>0</td>\n",
       "    </tr>\n",
       "    <tr>\n",
       "      <th>...</th>\n",
       "      <td>...</td>\n",
       "      <td>...</td>\n",
       "      <td>...</td>\n",
       "      <td>...</td>\n",
       "      <td>...</td>\n",
       "      <td>...</td>\n",
       "      <td>...</td>\n",
       "    </tr>\n",
       "    <tr>\n",
       "      <th>31187</th>\n",
       "      <td>#ifndef archive_h_included #define archive_h_i...</td>\n",
       "      <td>h</td>\n",
       "      <td>safe</td>\n",
       "      <td>#ifndef archive_h_included #define archive_h_i...</td>\n",
       "      <td>26926</td>\n",
       "      <td>2276</td>\n",
       "      <td>29</td>\n",
       "    </tr>\n",
       "    <tr>\n",
       "      <th>31188</th>\n",
       "      <td>#ifndef iscsi_parameters_h #define iscsi_param...</td>\n",
       "      <td>h</td>\n",
       "      <td>vulnerable</td>\n",
       "      <td>#ifndef iscsi_parameters_h #define iscsi_param...</td>\n",
       "      <td>9064</td>\n",
       "      <td>828</td>\n",
       "      <td>0</td>\n",
       "    </tr>\n",
       "    <tr>\n",
       "      <th>31189</th>\n",
       "      <td>spark.resource;   java.io.filenotfoundexceptio...</td>\n",
       "      <td>java</td>\n",
       "      <td>safe</td>\n",
       "      <td>spark.resource;   java.io.filenotfoundexceptio...</td>\n",
       "      <td>3148</td>\n",
       "      <td>348</td>\n",
       "      <td>1</td>\n",
       "    </tr>\n",
       "    <tr>\n",
       "      <th>31191</th>\n",
       "      <td>_isenabled = true; $this-&gt;_isajax = false; $th...</td>\n",
       "      <td>Other</td>\n",
       "      <td>safe</td>\n",
       "      <td>_isenabled = true; $this-&gt;_isajax = false; $th...</td>\n",
       "      <td>447</td>\n",
       "      <td>47</td>\n",
       "      <td>0</td>\n",
       "    </tr>\n",
       "    <tr>\n",
       "      <th>31192</th>\n",
       "      <td>#include   #include   #include   #include   #i...</td>\n",
       "      <td>c</td>\n",
       "      <td>vulnerable</td>\n",
       "      <td>#include   #include   #include   #include   #i...</td>\n",
       "      <td>3229</td>\n",
       "      <td>359</td>\n",
       "      <td>0</td>\n",
       "    </tr>\n",
       "  </tbody>\n",
       "</table>\n",
       "<p>24723 rows × 7 columns</p>\n",
       "</div>"
      ],
      "text/plain": [
       "                                                    code language      safety  \\\n",
       "0      org.bouncycastle.jcajce.provider.asymmetric.ds...     java  vulnerable   \n",
       "1      <?  $params = array('ldap_host', 'ldap_port', ...      php  vulnerable   \n",
       "2      #!/usr/bin/env python from __future__   divisi...       py        safe   \n",
       "3      #include \"rdesktop.h\" #define cliprdr_connect ...        c        safe   \n",
       "4      vnc performance benchmark      passes:  &nbsp;...     html        safe   \n",
       "...                                                  ...      ...         ...   \n",
       "31187  #ifndef archive_h_included #define archive_h_i...        h        safe   \n",
       "31188  #ifndef iscsi_parameters_h #define iscsi_param...        h  vulnerable   \n",
       "31189  spark.resource;   java.io.filenotfoundexceptio...     java        safe   \n",
       "31191  _isenabled = true; $this->_isajax = false; $th...    Other        safe   \n",
       "31192  #include   #include   #include   #include   #i...        c  vulnerable   \n",
       "\n",
       "                                         preprocess_code  code_length  \\\n",
       "0      org.bouncycastle.jcajce.provider.asymmetric.ds...         2285   \n",
       "1      <?  $params = array('ldap_host', 'ldap_port', ...         1039   \n",
       "2      #!/usr/bin/env python from __future__   divisi...          937   \n",
       "3      #include \"rdesktop.h\" #define cliprdr_connect ...         3627   \n",
       "4      vnc performance benchmark      passes:  &nbsp;...          174   \n",
       "...                                                  ...          ...   \n",
       "31187  #ifndef archive_h_included #define archive_h_i...        26926   \n",
       "31188  #ifndef iscsi_parameters_h #define iscsi_param...         9064   \n",
       "31189  spark.resource;   java.io.filenotfoundexceptio...         3148   \n",
       "31191  _isenabled = true; $this->_isajax = false; $th...          447   \n",
       "31192  #include   #include   #include   #include   #i...         3229   \n",
       "\n",
       "       function_calls  vuln_keywords  \n",
       "0                 211              0  \n",
       "1                  87              0  \n",
       "2                 125              5  \n",
       "3                 343              0  \n",
       "4                  17              0  \n",
       "...               ...            ...  \n",
       "31187            2276             29  \n",
       "31188             828              0  \n",
       "31189             348              1  \n",
       "31191              47              0  \n",
       "31192             359              0  \n",
       "\n",
       "[24723 rows x 7 columns]"
      ]
     },
     "execution_count": 21,
     "metadata": {},
     "output_type": "execute_result"
    }
   ],
   "source": [
    "data\n"
   ]
  },
  {
   "cell_type": "markdown",
   "id": "c1231928-6c50-4563-a730-3450bbcba931",
   "metadata": {},
   "source": [
    "### Checking Safety Column Balance/Imbalance"
   ]
  },
  {
   "cell_type": "code",
   "execution_count": 22,
   "id": "d49483b9-0bc1-4914-af01-cc7021cb93a1",
   "metadata": {},
   "outputs": [
    {
     "name": "stdout",
     "output_type": "stream",
     "text": [
      "safety\n",
      "safe          12904\n",
      "vulnerable    11819\n",
      "Name: count, dtype: int64\n"
     ]
    }
   ],
   "source": [
    "# Check the class distribution\n",
    "print(data['safety'].value_counts())\n"
   ]
  },
  {
   "cell_type": "code",
   "execution_count": 23,
   "id": "45d4780e-1c6f-4eda-bf56-691fe168aef9",
   "metadata": {},
   "outputs": [
    {
     "data": {
      "image/png": "[encoded data removed]",
      "text/plain": [
       "<Figure size 640x480 with 1 Axes>"
      ]
     },
     "metadata": {},
     "output_type": "display_data"
    }
   ],
   "source": [
    "# Count the occurrences of each class in 'safety'\n",
    "class_counts = data['safety'].value_counts()\n",
    "\n",
    "#plot the pie chart\n",
    "plt.pie(class_counts, labels=class_counts.index, autopct='%1.1f%%')\n",
    "plt.show()"
   ]
  },
  {
   "cell_type": "code",
   "execution_count": 24,
   "id": "62fd7b45-73c1-4e9a-9a3d-867ec9bcf897",
   "metadata": {},
   "outputs": [
    {
     "name": "stdout",
     "output_type": "stream",
     "text": [
      "       safety  safety_encoded\n",
      "0  vulnerable               1\n",
      "1  vulnerable               1\n",
      "2        safe               0\n",
      "3        safe               0\n",
      "4        safe               0\n"
     ]
    }
   ],
   "source": [
    "# Encoding 'safe' as 0 and 'vulnerable' as 1\n",
    "from sklearn.preprocessing import LabelEncoder\n",
    "\n",
    "encoder = LabelEncoder()\n",
    "data['safety_encoded'] = encoder.fit_transform(data['safety'])\n",
    "\n",
    "# Display the first few rows to verify\n",
    "print(data[['safety', 'safety_encoded']].head())\n"
   ]
  },
  {
   "cell_type": "code",
   "execution_count": 25,
   "id": "5c215b8a-5a03-483d-8e30-b0a23aa9f741",
   "metadata": {},
   "outputs": [
    {
     "data": {
      "text/html": [
       "<div>\n",
       "<style scoped>\n",
       "    .dataframe tbody tr th:only-of-type {\n",
       "        vertical-align: middle;\n",
       "    }\n",
       "\n",
       "    .dataframe tbody tr th {\n",
       "        vertical-align: top;\n",
       "    }\n",
       "\n",
       "    .dataframe thead th {\n",
       "        text-align: right;\n",
       "    }\n",
       "</style>\n",
       "<table border=\"1\" class=\"dataframe\">\n",
       "  <thead>\n",
       "    <tr style=\"text-align: right;\">\n",
       "      <th></th>\n",
       "      <th>code</th>\n",
       "      <th>language</th>\n",
       "      <th>safety</th>\n",
       "      <th>preprocess_code</th>\n",
       "      <th>code_length</th>\n",
       "      <th>function_calls</th>\n",
       "      <th>vuln_keywords</th>\n",
       "      <th>safety_encoded</th>\n",
       "    </tr>\n",
       "  </thead>\n",
       "  <tbody>\n",
       "    <tr>\n",
       "      <th>0</th>\n",
       "      <td>org.bouncycastle.jcajce.provider.asymmetric.ds...</td>\n",
       "      <td>java</td>\n",
       "      <td>vulnerable</td>\n",
       "      <td>org.bouncycastle.jcajce.provider.asymmetric.ds...</td>\n",
       "      <td>2285</td>\n",
       "      <td>211</td>\n",
       "      <td>0</td>\n",
       "      <td>1</td>\n",
       "    </tr>\n",
       "    <tr>\n",
       "      <th>1</th>\n",
       "      <td>&lt;?  $params = array('ldap_host', 'ldap_port', ...</td>\n",
       "      <td>php</td>\n",
       "      <td>vulnerable</td>\n",
       "      <td>&lt;?  $params = array('ldap_host', 'ldap_port', ...</td>\n",
       "      <td>1039</td>\n",
       "      <td>87</td>\n",
       "      <td>0</td>\n",
       "      <td>1</td>\n",
       "    </tr>\n",
       "    <tr>\n",
       "      <th>2</th>\n",
       "      <td>#!/usr/bin/env python from __future__   divisi...</td>\n",
       "      <td>py</td>\n",
       "      <td>safe</td>\n",
       "      <td>#!/usr/bin/env python from __future__   divisi...</td>\n",
       "      <td>937</td>\n",
       "      <td>125</td>\n",
       "      <td>5</td>\n",
       "      <td>0</td>\n",
       "    </tr>\n",
       "    <tr>\n",
       "      <th>3</th>\n",
       "      <td>#include \"rdesktop.h\" #define cliprdr_connect ...</td>\n",
       "      <td>c</td>\n",
       "      <td>safe</td>\n",
       "      <td>#include \"rdesktop.h\" #define cliprdr_connect ...</td>\n",
       "      <td>3627</td>\n",
       "      <td>343</td>\n",
       "      <td>0</td>\n",
       "      <td>0</td>\n",
       "    </tr>\n",
       "    <tr>\n",
       "      <th>4</th>\n",
       "      <td>vnc performance benchmark      passes:  &amp;nbsp;...</td>\n",
       "      <td>html</td>\n",
       "      <td>safe</td>\n",
       "      <td>vnc performance benchmark      passes:  &amp;nbsp;...</td>\n",
       "      <td>174</td>\n",
       "      <td>17</td>\n",
       "      <td>0</td>\n",
       "      <td>0</td>\n",
       "    </tr>\n",
       "  </tbody>\n",
       "</table>\n",
       "</div>"
      ],
      "text/plain": [
       "                                                code language      safety  \\\n",
       "0  org.bouncycastle.jcajce.provider.asymmetric.ds...     java  vulnerable   \n",
       "1  <?  $params = array('ldap_host', 'ldap_port', ...      php  vulnerable   \n",
       "2  #!/usr/bin/env python from __future__   divisi...       py        safe   \n",
       "3  #include \"rdesktop.h\" #define cliprdr_connect ...        c        safe   \n",
       "4  vnc performance benchmark      passes:  &nbsp;...     html        safe   \n",
       "\n",
       "                                     preprocess_code  code_length  \\\n",
       "0  org.bouncycastle.jcajce.provider.asymmetric.ds...         2285   \n",
       "1  <?  $params = array('ldap_host', 'ldap_port', ...         1039   \n",
       "2  #!/usr/bin/env python from __future__   divisi...          937   \n",
       "3  #include \"rdesktop.h\" #define cliprdr_connect ...         3627   \n",
       "4  vnc performance benchmark      passes:  &nbsp;...          174   \n",
       "\n",
       "   function_calls  vuln_keywords  safety_encoded  \n",
       "0             211              0               1  \n",
       "1              87              0               1  \n",
       "2             125              5               0  \n",
       "3             343              0               0  \n",
       "4              17              0               0  "
      ]
     },
     "execution_count": 25,
     "metadata": {},
     "output_type": "execute_result"
    }
   ],
   "source": [
    "data.head()"
   ]
  },
  {
   "cell_type": "markdown",
   "id": "6e8047a3-a166-4cda-b2c7-170219dbda8f",
   "metadata": {},
   "source": [
    "Preparing  Data"
   ]
  },
  {
   "cell_type": "code",
   "execution_count": 26,
   "id": "64954fb0-5332-43b3-b425-223966f0c91c",
   "metadata": {},
   "outputs": [],
   "source": [
    "from sklearn.model_selection import train_test_split\n"
   ]
  },
  {
   "cell_type": "code",
   "execution_count": 27,
   "id": "bdd7b579-1fd5-457f-980c-bfa6e4fe584b",
   "metadata": {},
   "outputs": [
    {
     "name": "stdout",
     "output_type": "stream",
     "text": [
      "                                                code language      safety  \\\n",
      "0  org.bouncycastle.jcajce.provider.asymmetric.ds...     java  vulnerable   \n",
      "1  <?  $params = array('ldap_host', 'ldap_port', ...      php  vulnerable   \n",
      "2  #!/usr/bin/env python from __future__   divisi...       py        safe   \n",
      "3  #include \"rdesktop.h\" #define cliprdr_connect ...        c        safe   \n",
      "4  vnc performance benchmark      passes:  &nbsp;...     html        safe   \n",
      "\n",
      "                                     preprocess_code  code_length  \\\n",
      "0  org.bouncycastle.jcajce.provider.asymmetric.ds...         2285   \n",
      "1  <?  $params = array('ldap_host', 'ldap_port', ...         1039   \n",
      "2  #!/usr/bin/env python from __future__   divisi...          937   \n",
      "3  #include \"rdesktop.h\" #define cliprdr_connect ...         3627   \n",
      "4  vnc performance benchmark      passes:  &nbsp;...          174   \n",
      "\n",
      "   function_calls  vuln_keywords  safety_encoded  \n",
      "0             211              0               1  \n",
      "1              87              0               1  \n",
      "2             125              5               0  \n",
      "3             343              0               0  \n",
      "4              17              0               0  \n"
     ]
    }
   ],
   "source": [
    "# Display the first few rows of your data to check the structure\n",
    "print(data.head())\n"
   ]
  },
  {
   "cell_type": "code",
   "execution_count": 28,
   "id": "57af19ae-1184-4060-b70b-692be70ee64c",
   "metadata": {},
   "outputs": [],
   "source": [
    "# Separate the features (X) from the target (y)\n",
    "X = data.drop(columns=['safety']) #drop the target column 'safety' from the feature set\n",
    "y = data['safety_encoded'].map({'safe': 0, 'vulnerable': 1})  # Ensures it stays 0/1\n",
    "\n"
   ]
  },
  {
   "cell_type": "code",
   "execution_count": 29,
   "id": "f35f50fc-f679-456e-bd2b-40aaff631a09",
   "metadata": {},
   "outputs": [],
   "source": [
    "# Replace 'safe' with 0 and 'vulnerable' with 1\n",
    "y = y.map({'safe': 0, 'vulnerable': 1})\n"
   ]
  },
  {
   "cell_type": "code",
   "execution_count": 30,
   "id": "2b9d58d7-0104-457f-bdd8-bddb59e79d34",
   "metadata": {},
   "outputs": [],
   "source": [
    "# Split the data into training and testing sets (80% train, 20% test)\n",
    "X_train, X_test, y_train, y_test = train_test_split(X, y, test_size=0.2, random_state=42)\n"
   ]
  },
  {
   "cell_type": "code",
   "execution_count": 31,
   "id": "44ba29a8-e823-4590-bafc-fed2f94831a6",
   "metadata": {},
   "outputs": [
    {
     "name": "stdout",
     "output_type": "stream",
     "text": [
      "Training set shape (X_train, y_train): (19778, 7) (19778,)\n",
      "Testing set shape (X_test, y_test): (4945, 7) (4945,)\n"
     ]
    }
   ],
   "source": [
    "print(\"Training set shape (X_train, y_train):\", X_train.shape, y_train.shape)\n",
    "print(\"Testing set shape (X_test, y_test):\", X_test.shape, y_test.shape)\n"
   ]
  },
  {
   "cell_type": "markdown",
   "id": "cfdb59d1-b063-401a-a0e4-fff4bff71c75",
   "metadata": {},
   "source": [
    "# Model Training & Evaluation"
   ]
  },
  {
   "cell_type": "code",
   "execution_count": 32,
   "id": "15a7de97-27b2-4894-98ea-488b6f43a076",
   "metadata": {},
   "outputs": [],
   "source": [
    "from sklearn.linear_model import LogisticRegression\n",
    "from sklearn.naive_bayes import MultinomialNB\n",
    "from sklearn.tree import DecisionTreeClassifier\n",
    "from sklearn.ensemble import RandomForestClassifier\n",
    "from sklearn.svm import SVC\n",
    "from sklearn.model_selection import train_test_split\n",
    "from sklearn.metrics import accuracy_score, classification_report"
   ]
  },
  {
   "cell_type": "code",
   "execution_count": 33,
   "id": "645529b3-8f28-4a27-ae4f-077c0f49bbfc",
   "metadata": {},
   "outputs": [],
   "source": [
    "from sklearn.metrics import accuracy_score, f1_score, precision_score, recall_score\n",
    "\n",
    "# Define function for training scores\n",
    "def training_scores(y_act, y_pred):\n",
    "    acc = round(accuracy_score(y_act, y_pred), 3)\n",
    "    pr = round(precision_score(y_act, y_pred), 3)\n",
    "    rec = round(recall_score(y_act, y_pred), 3)\n",
    "    fl = round(f1_score(y_act, y_pred), 3)\n",
    "    print(f'Training Scores: \\n\\tAccuracy = {acc}\\n\\tPrecision = {pr}\\n\\tRecall = {rec}\\n\\tF1-Score = {fl}')\n",
    "\n",
    "def validation_scores(y_act, y_pred):\n",
    "    acc = round(accuracy_score(y_act, y_pred), 3)\n",
    "    pr = round(precision_score(y_act, y_pred), 3)\n",
    "    rec= round(recall_score(y_act, y_pred), 3)\n",
    "    f1= round(f1_score(y_act, y_pred), 3)\n",
    "    print(f'Testing Scores: \\n\\tAccuracy = {acc}\\n\\tPrecision = {pr}\\n\\tRecall = {rec}\\n\\tF1-Score = {f1}')\n"
   ]
  },
  {
   "cell_type": "code",
   "execution_count": 34,
   "id": "f696e7c1-558a-4f0b-863e-9bf0ef7e4acc",
   "metadata": {},
   "outputs": [],
   "source": [
    "from sklearn.feature_extraction.text import TfidfVectorizer\n",
    "\n",
    "# Initialize TF-IDF Vectorizer\n",
    "vectorizer = TfidfVectorizer(max_features=5000)  # You can change this number\n",
    "\n",
    "# Fit and transform the 'code' column\n",
    "X = vectorizer.fit_transform(data['code'])\n",
    "\n",
    "# Use the already encoded labels\n",
    "y = data['safety_encoded']  # If already encoded to 0 and 1\n",
    "X_train, X_test, y_train, y_test = train_test_split(X, y, test_size=0.2, random_state=42)"
   ]
  },
  {
   "cell_type": "markdown",
   "id": "2d164941-77af-4c02-b19e-daf436e95396",
   "metadata": {},
   "source": [
    "### Logistic Regression"
   ]
  },
  {
   "cell_type": "code",
   "execution_count": 35,
   "id": "9cd32a4a-794a-4959-81af-cfb339dd7663",
   "metadata": {},
   "outputs": [
    {
     "name": "stdout",
     "output_type": "stream",
     "text": [
      "Training Scores: \n",
      "\tAccuracy = 0.568\n",
      "\tPrecision = 0.571\n",
      "\tRecall = 0.389\n",
      "\tF1-Score = 0.463\n",
      "Testing Scores: \n",
      "\tAccuracy = 0.367\n",
      "\tPrecision = 0.269\n",
      "\tRecall = 0.187\n",
      "\tF1-Score = 0.221\n"
     ]
    }
   ],
   "source": [
    "from sklearn.model_selection import train_test_split\n",
    "from sklearn.linear_model import LogisticRegression\n",
    "\n",
    "# Split data\n",
    "X_train, X_test, y_train, y_test = train_test_split(X, y, test_size=0.2, random_state=42)\n",
    "\n",
    "# Initialize and train model\n",
    "lr = LogisticRegression(random_state=42)\n",
    "lr.fit(X_train, y_train)\n",
    "\n",
    "# Predictions\n",
    "y_pred_lr = lr.predict(X_test)\n",
    "\n",
    "# Evaluation\n",
    "training_scores(y_train, lr.predict(X_train))\n",
    "validation_scores(y_test, y_pred_lr)\n"
   ]
  },
  {
   "cell_type": "markdown",
   "id": "4290068f-6dab-4a5d-b4e5-30cd767fe9b3",
   "metadata": {},
   "source": [
    "### Naive Bayes"
   ]
  },
  {
   "cell_type": "code",
   "execution_count": 36,
   "id": "5d2180f6-86d6-4617-bbae-e311b4108a36",
   "metadata": {},
   "outputs": [
    {
     "name": "stdout",
     "output_type": "stream",
     "text": [
      "Training Scores: \n",
      "\tAccuracy = 0.547\n",
      "\tPrecision = 0.553\n",
      "\tRecall = 0.278\n",
      "\tF1-Score = 0.37\n",
      "Testing Scores: \n",
      "\tAccuracy = 0.428\n",
      "\tPrecision = 0.305\n",
      "\tRecall = 0.153\n",
      "\tF1-Score = 0.204\n"
     ]
    }
   ],
   "source": [
    "nb = MultinomialNB()\n",
    "nb.fit(X_train, y_train)\n",
    "\n",
    "y_pred_nb = nb.predict(X_test)\n",
    "\n",
    "training_scores(y_train, nb.predict(X_train))\n",
    "validation_scores(y_test, y_pred_nb)\n"
   ]
  },
  {
   "cell_type": "markdown",
   "id": "c9b82d47-5dfb-4b33-a622-b39ebfed3ced",
   "metadata": {},
   "source": [
    "### Decision Tree"
   ]
  },
  {
   "cell_type": "code",
   "execution_count": 37,
   "id": "bee93f45-7fc8-4e6a-9ed4-586d20adc4fd",
   "metadata": {},
   "outputs": [
    {
     "name": "stdout",
     "output_type": "stream",
     "text": [
      "Training Scores: \n",
      "\tAccuracy = 0.761\n",
      "\tPrecision = 0.927\n",
      "\tRecall = 0.542\n",
      "\tF1-Score = 0.684\n",
      "Testing Scores: \n",
      "\tAccuracy = 0.252\n",
      "\tPrecision = 0.153\n",
      "\tRecall = 0.124\n",
      "\tF1-Score = 0.137\n"
     ]
    }
   ],
   "source": [
    "from sklearn.tree import DecisionTreeClassifier\n",
    "\n",
    "dt = DecisionTreeClassifier(random_state=42)\n",
    "dt.fit(X_train, y_train)\n",
    "\n",
    "y_pred_dt = dt.predict(X_test)\n",
    "\n",
    "training_scores(y_train, dt.predict(X_train))\n",
    "validation_scores(y_test, y_pred_dt)\n"
   ]
  },
  {
   "cell_type": "markdown",
   "id": "88a03543-2d92-4652-b707-18afea58a089",
   "metadata": {},
   "source": [
    "### Random Forest"
   ]
  },
  {
   "cell_type": "code",
   "execution_count": 38,
   "id": "0fb41b1c-a5f5-4393-bdd3-179c5c4b08ff",
   "metadata": {},
   "outputs": [
    {
     "name": "stdout",
     "output_type": "stream",
     "text": [
      "Training Scores: \n",
      "\tAccuracy = 0.761\n",
      "\tPrecision = 0.791\n",
      "\tRecall = 0.679\n",
      "\tF1-Score = 0.731\n",
      "Testing Scores: \n",
      "\tAccuracy = 0.225\n",
      "\tPrecision = 0.128\n",
      "\tRecall = 0.106\n",
      "\tF1-Score = 0.116\n"
     ]
    }
   ],
   "source": [
    "from sklearn.ensemble import RandomForestClassifier\n",
    "\n",
    "rf = RandomForestClassifier(n_jobs=-1, random_state=42)  # Use all cores available\n",
    "rf.fit(X_train, y_train)\n",
    "\n",
    "y_pred_rf = rf.predict(X_test)\n",
    "\n",
    "training_scores(y_train, rf.predict(X_train))\n",
    "validation_scores(y_test, y_pred_rf)\n"
   ]
  },
  {
   "cell_type": "markdown",
   "id": "b93f18ea-2abd-4c6e-bf88-4f044d8188fd",
   "metadata": {},
   "source": [
    "### Support Vector Classifier"
   ]
  },
  {
   "cell_type": "markdown",
   "id": "0b63eb10-5f47-4c10-abab-bdebc2d56177",
   "metadata": {},
   "source": [
    "## Save Model: Naive Bayes"
   ]
  },
  {
   "cell_type": "markdown",
   "id": "5e74bebe-bcd8-4c8c-b7c3-c5fdc94da8bb",
   "metadata": {},
   "source": [
    "Save Naive Bayes model using pickle"
   ]
  },
  {
   "cell_type": "code",
   "execution_count": 39,
   "id": "dde5eae8-a5c5-4f0d-8b90-986bdf978bf4",
   "metadata": {},
   "outputs": [],
   "source": [
    "import pickle\n",
    "\n",
    "with open('../static/model/model.pickle', 'wb') as file:\n",
    "    pickle.dump(nb, file)"
   ]
  },
  {
   "cell_type": "code",
   "execution_count": null,
   "id": "7b79f50d-2755-4a1c-9cdc-e38a0078f25e",
   "metadata": {},
   "outputs": [],
   "source": []
  }
 ],
 "metadata": {
  "kernelspec": {
   "display_name": "Python 3 (ipykernel)",
   "language": "python",
   "name": "python3"
  },
  "language_info": {
   "codemirror_mode": {
    "name": "ipython",
    "version": 3
   },
   "file_extension": ".py",
   "mimetype": "text/x-python",
   "name": "python",
   "nbconvert_exporter": "python",
   "pygments_lexer": "ipython3",
   "version": "3.12.9"
  }
 },
 "nbformat": 4,
 "nbformat_minor": 5
}

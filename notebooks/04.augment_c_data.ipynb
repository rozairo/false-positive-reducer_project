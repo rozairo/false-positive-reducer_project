{
 "cells": [
  {
   "cell_type": "code",
   "execution_count": 1,
   "id": "96cf3f26-d8eb-4592-8c25-e612462c3a72",
   "metadata": {},
   "outputs": [
    {
     "name": "stdout",
     "output_type": "stream",
     "text": [
      "✅ Final balanced dataset saved as 'final_balanced_dataset.csv'\n"
     ]
    }
   ],
   "source": [
    "import pandas as pd\n",
    "\n",
    "# Define safe C examples\n",
    "safe_c_samples = [\n",
    "    \"\"\"\n",
    "    #include <stdio.h>\n",
    "    int main() {\n",
    "        printf(\"Hello, World!\");\n",
    "        return 0;\n",
    "    }\n",
    "    \"\"\",\n",
    "    \"\"\"\n",
    "    #include <stdio.h>\n",
    "    int add(int a, int b) {\n",
    "        return a + b;\n",
    "    }\n",
    "    \"\"\",\n",
    "    \"\"\"\n",
    "    #include <stdio.h>\n",
    "    void greet() {\n",
    "        printf(\"Welcome!\");\n",
    "    }\n",
    "    \"\"\",\n",
    "    \"\"\"\n",
    "    #include <stdio.h>\n",
    "    int main() {\n",
    "        int x = 10, y = 20;\n",
    "        int sum = x + y;\n",
    "        printf(\"%d\", sum);\n",
    "        return 0;\n",
    "    }\n",
    "    \"\"\",\n",
    "    \"\"\"\n",
    "    #include <stdio.h>\n",
    "    void printMessage() {\n",
    "        printf(\"All good!\");\n",
    "    }\n",
    "    \"\"\"\n",
    "]\n",
    "\n",
    "# Define vulnerable C examples\n",
    "vuln_c_samples = [\n",
    "    \"\"\"\n",
    "    #include <stdio.h>\n",
    "    #include <string.h>\n",
    "    int main() {\n",
    "        char buffer[10];\n",
    "        strcpy(buffer, \"AAAAAAAAAAAAAAAAAAAA\");\n",
    "        return 0;\n",
    "    }\n",
    "    \"\"\",\n",
    "    \"\"\"\n",
    "    #include <stdio.h>\n",
    "    int main(int argc, char *argv[]) {\n",
    "        printf(argv[1]);\n",
    "        return 0;\n",
    "    }\n",
    "    \"\"\",\n",
    "    \"\"\"\n",
    "    #include <stdio.h>\n",
    "    int main() {\n",
    "        char name[50];\n",
    "        gets(name);\n",
    "        printf(\"Hello %s\", name);\n",
    "        return 0;\n",
    "    }\n",
    "    \"\"\",\n",
    "    \"\"\"\n",
    "    #include <stdlib.h>\n",
    "    int main() {\n",
    "        char *ptr = malloc(10);\n",
    "        free(ptr);\n",
    "        free(ptr);\n",
    "        return 0;\n",
    "    }\n",
    "    \"\"\",\n",
    "    \"\"\"\n",
    "    #include <stdio.h>\n",
    "    void vuln(char *input) {\n",
    "        char buf[50];\n",
    "        sprintf(buf, input);\n",
    "    }\n",
    "    \"\"\"\n",
    "]\n",
    "\n",
    "# Create DataFrames (duplicate samples)\n",
    "safe_c_df = pd.DataFrame({'code': safe_c_samples * 10, 'safety': 'safe'})  # 5 x 10 = 50\n",
    "vuln_c_df = pd.DataFrame({'code': vuln_c_samples * 10, 'safety': 'vulnerable'})  # 5 x 10 = 50\n",
    "\n",
    "# Load existing dataset\n",
    "original_data = pd.read_csv('../artifacts/CVEFixes.csv/CVEFixes.csv')\n",
    "\n",
    "# Combine everything\n",
    "augmented_data = pd.concat([original_data, safe_c_df, vuln_c_df], ignore_index=True)\n",
    "\n",
    "# Shuffle the dataset\n",
    "augmented_data = augmented_data.sample(frac=1, random_state=42).reset_index(drop=True)\n",
    "\n",
    "# Save to new CSV\n",
    "augmented_data.to_csv('../artifacts/CVEFixes.csv/final_balanced_dataset.csv', index=False)\n",
    "\n",
    "print(\"✅ Final balanced dataset saved as 'final_balanced_dataset.csv'\")\n"
   ]
  },
  {
   "cell_type": "code",
   "execution_count": 3,
   "id": "582b9f85-6462-481f-9d56-443372e0e693",
   "metadata": {},
   "outputs": [
    {
     "name": "stdout",
     "output_type": "stream",
     "text": [
      "                                                code language      safety\n",
      "0                                     404: Not Found      php  vulnerable\n",
      "1  // Copyright (c) 2020, Control Command Inc. Al...       go        safe\n",
      "2  /*\\n\\n  FUSE: Filesystem in Userspace\\n\\n  Cop...        c  vulnerable\n",
      "3  /*\\n\\n * Copyright 2002-2013 the original auth...     java        safe\n",
      "4  $(document).ready(function() {\\n\\n        $('#...       js  vulnerable\n"
     ]
    }
   ],
   "source": [
    "import pandas as pd\n",
    "\n",
    "data = pd.read_csv('../artifacts/CVEFixes.csv/final_balanced_dataset.csv')\n",
    "print(data.head())\n",
    "\n"
   ]
  },
  {
   "cell_type": "code",
   "execution_count": null,
   "id": "3d5df732-3c9b-41ba-b0ef-6ce7a0a4a01d",
   "metadata": {},
   "outputs": [],
   "source": []
  }
 ],
 "metadata": {
  "kernelspec": {
   "display_name": "Python 3 (ipykernel)",
   "language": "python",
   "name": "python3"
  },
  "language_info": {
   "codemirror_mode": {
    "name": "ipython",
    "version": 3
   },
   "file_extension": ".py",
   "mimetype": "text/x-python",
   "name": "python",
   "nbconvert_exporter": "python",
   "pygments_lexer": "ipython3",
   "version": "3.12.10"
  }
 },
 "nbformat": 4,
 "nbformat_minor": 5
}

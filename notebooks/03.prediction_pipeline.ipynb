{
 "cells": [
  {
   "cell_type": "code",
   "execution_count": 72,
   "id": "ccdce1bc-1b76-46de-a3e0-6bccad364d15",
   "metadata": {},
   "outputs": [],
   "source": [
    "import pandas as pd\n",
    "import pickle\n",
    "import re\n",
    "from sklearn.model_selection import train_test_split\n",
    "from sklearn.ensemble import RandomForestClassifier\n",
    "from sklearn.feature_extraction.text import TfidfVectorizer\n",
    "from sklearn.metrics import classification_report"
   ]
  },
  {
   "cell_type": "code",
   "execution_count": 73,
   "id": "8b8f5c3e-a770-4b97-9428-97804b91af7b",
   "metadata": {},
   "outputs": [],
   "source": [
    "def preprocess_code(code):\n",
    "    code = str(code)\n",
    "    code = re.sub(r'/\\*.*?\\*/', ' ', code, flags=re.DOTALL)\n",
    "    code = re.sub(r'\\s+', ' ', code)\n",
    "    code = re.sub(r'<.*?>', ' ', code)\n",
    "    code = re.sub(r'\\b(?:package|import|public|class|function|php|<\\?php|\\?>)\\b', ' ', code)\n",
    "    code = code.lower()\n",
    "    return code.strip()\n"
   ]
  },
  {
   "cell_type": "code",
   "execution_count": 74,
   "id": "117e1e7c-5710-4a87-9af4-be5b606df628",
   "metadata": {},
   "outputs": [
    {
     "name": "stdout",
     "output_type": "stream",
     "text": [
      "✅ Model and vectorizer loaded successfully!\n"
     ]
    }
   ],
   "source": [
    "with open('../static/model/model.pickle', 'rb') as file:\n",
    "    rf = pickle.load(file)\n",
    "\n",
    "with open('../static/model/vectorizer.pickle', 'rb') as f:\n",
    "    vectorizer = pickle.load(f)\n",
    "\n",
    "print(\"✅ Model and vectorizer loaded successfully!\")\n",
    "\n"
   ]
  },
  {
   "cell_type": "code",
   "execution_count": 75,
   "id": "356c1392-d4f8-4164-9d09-098d60eea017",
   "metadata": {},
   "outputs": [],
   "source": [
    "def get_prediction(vectorized_text):\n",
    "    prediction = rf.predict(vectorized_text)\n",
    "    if prediction == 1:\n",
    "        return 'Vulnerable'\n",
    "    else:\n",
    "        return 'Safe'\n"
   ]
  },
  {
   "cell_type": "code",
   "execution_count": 76,
   "id": "4dfa00d9-e5c3-43a5-97bd-978a978fa5e0",
   "metadata": {},
   "outputs": [],
   "source": [
    "test_samples = {\n",
    "    \"Safe Python\": \"\"\"\n",
    "    def add(a, b):\n",
    "        return a + b\n",
    "\n",
    "    print(add(2, 3))\n",
    "    \"\"\",\n",
    "    \"Vulnerable C (buffer overflow)\": \"\"\"\n",
    "    #include <stdio.h>\n",
    "    #include <string.h>\n",
    "\n",
    "    int main() {\n",
    "        char buffer[10];\n",
    "        strcpy(buffer, \"AAAAAAAAAAAAAAAAAAAA\");\n",
    "        return 0;\n",
    "    }\n",
    "    \"\"\",\n",
    "    \"Vulnerable C (format string)\": \"\"\"\n",
    "    #include <stdio.h>\n",
    "\n",
    "    int main(int argc, char *argv[]) {\n",
    "        printf(argv[1]);\n",
    "        return 0;\n",
    "    }\n",
    "    \"\"\",\n",
    "    \"Safe C\": \"\"\"\n",
    "    #include <stdio.h>\n",
    "\n",
    "    int main() {\n",
    "        printf(\"Hello, World!\");\n",
    "        return 0;\n",
    "    }\n",
    "    \"\"\",\n",
    "    \"Vulnerable C (gets)\": \"\"\"\n",
    "    #include <stdio.h>\n",
    "\n",
    "    int main() {\n",
    "        char name[50];\n",
    "        gets(name);\n",
    "        printf(\"Hello %s\", name);\n",
    "        return 0;\n",
    "    }\n",
    "    \"\"\"\n",
    "}\n"
   ]
  },
  {
   "cell_type": "code",
   "execution_count": 77,
   "id": "c1ee2845-86ce-471f-805f-1bcec4113bdc",
   "metadata": {},
   "outputs": [
    {
     "name": "stdout",
     "output_type": "stream",
     "text": [
      "\n",
      "🔍 Batch Test Predictions:\n",
      "\n",
      "Safe Python: Safe\n",
      "Vulnerable C (buffer overflow): Vulnerable\n",
      "Vulnerable C (format string): Vulnerable\n",
      "Safe C: Safe\n",
      "Vulnerable C (gets): Vulnerable\n"
     ]
    }
   ],
   "source": [
    "print(\"\\n🔍 Batch Test Predictions:\\n\")\n",
    "for label, code in test_samples.items():\n",
    "    cleaned_code = preprocess_code(code)\n",
    "    vectorized_code = vectorizer.transform([cleaned_code])\n",
    "    prediction = get_prediction(vectorized_code)\n",
    "    print(f\"{label}: {prediction}\")\n"
   ]
  },
  {
   "cell_type": "markdown",
   "id": "54b9984b-37b9-4976-b48f-2f25ce37caff",
   "metadata": {},
   "source": [
    "## Optional"
   ]
  },
  {
   "cell_type": "code",
   "execution_count": 78,
   "id": "5cfcaab9-07a8-44f5-8f01-46939e086382",
   "metadata": {},
   "outputs": [],
   "source": [
    "def get_prediction_with_threshold(vectorized_text, threshold=0.7):\n",
    "    proba = rf.predict_proba(vectorized_text)\n",
    "    if proba[0][1] > threshold:\n",
    "        return 'Vulnerable'\n",
    "    else:\n",
    "        return 'Safe'\n"
   ]
  },
  {
   "cell_type": "code",
   "execution_count": 79,
   "id": "e039fd2e-3baf-4e21-8030-7e4b08daa6e4",
   "metadata": {},
   "outputs": [
    {
     "name": "stdout",
     "output_type": "stream",
     "text": [
      "\n",
      "🔍 Batch Test Predictions (with threshold):\n",
      "\n",
      "Safe Python: Safe\n",
      "Vulnerable C (buffer overflow): Vulnerable\n",
      "Vulnerable C (format string): Vulnerable\n",
      "Safe C: Safe\n",
      "Vulnerable C (gets): Vulnerable\n"
     ]
    }
   ],
   "source": [
    "print(\"\\n🔍 Batch Test Predictions (with threshold):\\n\")\n",
    "for label, code in test_samples.items():\n",
    "    cleaned_code = preprocess_code(code)\n",
    "    vectorized_code = vectorizer.transform([cleaned_code])\n",
    "    prediction = get_prediction_with_threshold(vectorized_code, threshold=0.7)\n",
    "    print(f\"{label}: {prediction}\")\n"
   ]
  },
  {
   "cell_type": "code",
   "execution_count": 80,
   "id": "f975ff99-26ac-44ea-9199-3fcad57e1bc6",
   "metadata": {},
   "outputs": [],
   "source": [
    "def get_prediction(vectorized_text):\n",
    "    prediction = rf.predict(vectorized_text)\n",
    "    if prediction == 1:\n",
    "        return 'Vulnerable'\n",
    "    else:\n",
    "        return 'Safe'\n"
   ]
  },
  {
   "cell_type": "code",
   "execution_count": 81,
   "id": "cb590207-3604-44b7-a3ca-917ff2303aed",
   "metadata": {},
   "outputs": [
    {
     "name": "stdout",
     "output_type": "stream",
     "text": [
      "Vulnerable\n"
     ]
    }
   ],
   "source": [
    "txt = \"\"\"\n",
    "#include <stdio.h>\n",
    "#include <string.h>\n",
    "\n",
    "int main() {\n",
    "    char buffer[10];\n",
    "    strcpy(buffer, \"AAAAAAAAAAAAAAAAAAAA\");\n",
    "    return 0;\n",
    "}\n",
    "\"\"\"\n",
    "\n",
    "preprocessed_txt = preprocess_code(txt)\n",
    "vectorized_txt = vectorizer.transform([preprocessed_txt])\n",
    "prediction = get_prediction(vectorized_txt)\n",
    "print(prediction)\n"
   ]
  },
  {
   "cell_type": "markdown",
   "id": "3a7612c7-e917-40b7-99e1-f44f5a9a9e94",
   "metadata": {},
   "source": [
    "# 📦 Final Notes on Prediction Pipeline\n",
    "\n",
    "✅ This notebook implements a complete prediction pipeline using the trained Random Forest model and TF-IDF vectorizer.\n",
    "\n",
    "### ✨ Key Features\n",
    "\n",
    "- **Batch Test Predictions**  \n",
    "  Runs multiple test samples through the pipeline and outputs `Safe` or `Vulnerable` predictions.\n",
    "\n",
    "- **Threshold-Based Prediction (Optional)**  \n",
    "  Uses the model's probability score (`predict_proba`) to apply a confidence threshold.  \n",
    "  Example: With a threshold of 0.7, the model only labels a sample as `Vulnerable` if it is more than 70% confident.\n",
    "\n",
    "### 💡 Why Use Threshold-Based Prediction?\n",
    "\n",
    "- Reduces false positives by requiring high confidence before predicting `Vulnerable`.\n",
    "- Helps balance between sensitivity (detecting vulnerabilities) and specificity (avoiding false alarms).\n",
    "- Allows you to adjust the system for stricter or looser detection based on your use case.\n",
    "\n",
    "### 📊 Notes on Results\n",
    "\n",
    "- **Good performance on Python, C, and web languages**\n",
    "- **Buffer overflow and format string vulnerabilities detected well**\n",
    "- **Some C `gets()` cases may need more training data to improve detection**\n",
    "\n",
    "### 🔧 Recommendations\n",
    "\n",
    "- Keep tuning the threshold value (`0.5`, `0.6`, `0.7`) based on testing.\n",
    "- Consider adding more safe and vulnerable C samples to improve edge-case handling.\n",
    "- Optionally integrate this pipeline into a web app for user-friendly predictions.\n",
    "\n",
    "\n",
    "\n"
   ]
  }
 ],
 "metadata": {
  "kernelspec": {
   "display_name": "Python 3 (ipykernel)",
   "language": "python",
   "name": "python3"
  },
  "language_info": {
   "codemirror_mode": {
    "name": "ipython",
    "version": 3
   },
   "file_extension": ".py",
   "mimetype": "text/x-python",
   "name": "python",
   "nbconvert_exporter": "python",
   "pygments_lexer": "ipython3",
   "version": "3.12.10"
  }
 },
 "nbformat": 4,
 "nbformat_minor": 5
}
